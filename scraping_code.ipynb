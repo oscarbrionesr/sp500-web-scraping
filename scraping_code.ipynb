{
 "cells": [
  {
   "cell_type": "code",
   "execution_count": 2,
   "metadata": {},
   "outputs": [],
   "source": [
    "#packages needed for webscraping\n",
    "from operator import imod\n",
    "from bs4 import BeautifulSoup\n",
    "import requests\n",
    "import pandas as pd\n",
    "import re"
   ]
  },
  {
   "cell_type": "code",
   "execution_count": 3,
   "metadata": {},
   "outputs": [],
   "source": [
    "#Creating the requests to get to information from the websites\n",
    "\n",
    "url = \"https://www.liberatedstocktrader.com/sp-500-companies-list-by-number-of-employees/\"\n",
    "url3 = \"https://stockmarketmba.com/stocksinthesp500.php\"\n",
    "\n",
    "r = requests.get(url).content\n",
    "r2 = requests.get(url2).content"
   ]
  },
  {
   "cell_type": "code",
   "execution_count": 4,
   "metadata": {},
   "outputs": [],
   "source": [
    "#creating the dataframes from the tables found in the websites\n",
    "\n",
    "df = pd.read_html(r)[2]\n",
    "df2 = pd.read_html(r2)[0]"
   ]
  },
  {
   "cell_type": "code",
   "execution_count": 5,
   "metadata": {},
   "outputs": [],
   "source": [
    "#Making the first row the header of the first dataframe\n",
    "new_header = df.iloc[0]\n",
    "df = df[1:]\n",
    "df.columns = new_header\n",
    "\n",
    "#Changing the name of one column of the second dataframe in order to have the same name as the \n",
    "#first dataframe, and merge them\n",
    "df2 = df2.rename(columns={'Symbol': 'Ticker'})"
   ]
  },
  {
   "cell_type": "code",
   "execution_count": 6,
   "metadata": {},
   "outputs": [],
   "source": [
    "#merging the two dataframes\n",
    "temp_df = pd.merge(df, df2, on=\"Ticker\")\n"
   ]
  },
  {
   "cell_type": "code",
   "execution_count": 7,
   "metadata": {},
   "outputs": [],
   "source": [
    "#Dropping unnecesary columns\n",
    "sp500 = temp_df.drop(['Description', 'Category2', 'Category3', 'GICS Sector', 'Action', 'Price to book value', 'Price to TTM sales'], axis=1)"
   ]
  },
  {
   "cell_type": "code",
   "execution_count": 8,
   "metadata": {},
   "outputs": [],
   "source": [
    "#Renaming columns for easy reading\n",
    "sp500 = sp500.rename(columns={'Company_x': 'Company', 'Sector_x': 'Sector', 'Price to TTM earnings': 'PE Ratio'})"
   ]
  },
  {
   "cell_type": "code",
   "execution_count": 9,
   "metadata": {},
   "outputs": [],
   "source": [
    "#Exporting final dataframe as a csv dataset\n",
    "sp500.to_csv('s&p500.csv')"
   ]
  },
  {
   "cell_type": "code",
   "execution_count": 10,
   "metadata": {},
   "outputs": [
    {
     "data": {
      "text/html": [
       "<div>\n",
       "<style scoped>\n",
       "    .dataframe tbody tr th:only-of-type {\n",
       "        vertical-align: middle;\n",
       "    }\n",
       "\n",
       "    .dataframe tbody tr th {\n",
       "        vertical-align: top;\n",
       "    }\n",
       "\n",
       "    .dataframe thead th {\n",
       "        text-align: right;\n",
       "    }\n",
       "</style>\n",
       "<table border=\"1\" class=\"dataframe\">\n",
       "  <thead>\n",
       "    <tr style=\"text-align: right;\">\n",
       "      <th></th>\n",
       "      <th>Ticker</th>\n",
       "      <th>Company</th>\n",
       "      <th>Sector</th>\n",
       "      <th># Employees</th>\n",
       "      <th>Market cap</th>\n",
       "      <th>Dividend yield</th>\n",
       "      <th>PE Ratio</th>\n",
       "    </tr>\n",
       "  </thead>\n",
       "  <tbody>\n",
       "    <tr>\n",
       "      <th>0</th>\n",
       "      <td>WMT</td>\n",
       "      <td>Walmart Inc.</td>\n",
       "      <td>Retail Trade</td>\n",
       "      <td>2300000</td>\n",
       "      <td>$363,056,466,453</td>\n",
       "      <td>1.66%</td>\n",
       "      <td>28.00</td>\n",
       "    </tr>\n",
       "    <tr>\n",
       "      <th>1</th>\n",
       "      <td>AMZN</td>\n",
       "      <td>Amazon.com, Inc.</td>\n",
       "      <td>Retail Trade</td>\n",
       "      <td>1298000</td>\n",
       "      <td>$1,172,281,932,907</td>\n",
       "      <td>0.00%</td>\n",
       "      <td>54.83</td>\n",
       "    </tr>\n",
       "    <tr>\n",
       "      <th>2</th>\n",
       "      <td>ACN</td>\n",
       "      <td>Accenture plc</td>\n",
       "      <td>Technology Services</td>\n",
       "      <td>624000</td>\n",
       "      <td>$175,542,642,286</td>\n",
       "      <td>1.52%</td>\n",
       "      <td>27.23</td>\n",
       "    </tr>\n",
       "    <tr>\n",
       "      <th>3</th>\n",
       "      <td>UPS</td>\n",
       "      <td>United Parcel Service, Inc.</td>\n",
       "      <td>Transportation</td>\n",
       "      <td>543000</td>\n",
       "      <td>$120,946,420,006</td>\n",
       "      <td>3.33%</td>\n",
       "      <td>10.91</td>\n",
       "    </tr>\n",
       "    <tr>\n",
       "      <th>4</th>\n",
       "      <td>HD</td>\n",
       "      <td>Home Depot, Inc. (The)</td>\n",
       "      <td>Retail Trade</td>\n",
       "      <td>504800</td>\n",
       "      <td>$282,026,397,782</td>\n",
       "      <td>2.64%</td>\n",
       "      <td>16.70</td>\n",
       "    </tr>\n",
       "    <tr>\n",
       "      <th>...</th>\n",
       "      <td>...</td>\n",
       "      <td>...</td>\n",
       "      <td>...</td>\n",
       "      <td>...</td>\n",
       "      <td>...</td>\n",
       "      <td>...</td>\n",
       "      <td>...</td>\n",
       "    </tr>\n",
       "    <tr>\n",
       "      <th>473</th>\n",
       "      <td>FRT</td>\n",
       "      <td>Federal Realty Investment Trust</td>\n",
       "      <td>Finance</td>\n",
       "      <td>307</td>\n",
       "      <td>$7,381,253,626</td>\n",
       "      <td>3.50%</td>\n",
       "      <td>28.17</td>\n",
       "    </tr>\n",
       "    <tr>\n",
       "      <th>474</th>\n",
       "      <td>PEAK</td>\n",
       "      <td>Healthpeak Properties, Inc.</td>\n",
       "      <td>Finance</td>\n",
       "      <td>217</td>\n",
       "      <td>$12,172,957,241</td>\n",
       "      <td>5.24%</td>\n",
       "      <td>28.27</td>\n",
       "    </tr>\n",
       "    <tr>\n",
       "      <th>475</th>\n",
       "      <td>O</td>\n",
       "      <td>Realty Income Corporation</td>\n",
       "      <td>Finance</td>\n",
       "      <td>210</td>\n",
       "      <td>$34,790,430,036</td>\n",
       "      <td>5.02%</td>\n",
       "      <td>74.69</td>\n",
       "    </tr>\n",
       "    <tr>\n",
       "      <th>476</th>\n",
       "      <td>HST</td>\n",
       "      <td>Host Hotels</td>\n",
       "      <td>Finance</td>\n",
       "      <td>163</td>\n",
       "      <td>$12,532,067,646</td>\n",
       "      <td>1.19%</td>\n",
       "      <td>38.88</td>\n",
       "    </tr>\n",
       "    <tr>\n",
       "      <th>477</th>\n",
       "      <td>PNW</td>\n",
       "      <td>Pinnacle West Capital Corporation</td>\n",
       "      <td>Utilities</td>\n",
       "      <td>88</td>\n",
       "      <td>$7,240,443,989</td>\n",
       "      <td>5.22%</td>\n",
       "      <td>11.80</td>\n",
       "    </tr>\n",
       "  </tbody>\n",
       "</table>\n",
       "<p>478 rows × 7 columns</p>\n",
       "</div>"
      ],
      "text/plain": [
       "    Ticker                            Company               Sector  \\\n",
       "0      WMT                       Walmart Inc.         Retail Trade   \n",
       "1     AMZN                   Amazon.com, Inc.         Retail Trade   \n",
       "2      ACN                      Accenture plc  Technology Services   \n",
       "3      UPS        United Parcel Service, Inc.       Transportation   \n",
       "4       HD             Home Depot, Inc. (The)         Retail Trade   \n",
       "..     ...                                ...                  ...   \n",
       "473    FRT    Federal Realty Investment Trust              Finance   \n",
       "474   PEAK        Healthpeak Properties, Inc.              Finance   \n",
       "475      O          Realty Income Corporation              Finance   \n",
       "476    HST                        Host Hotels              Finance   \n",
       "477    PNW  Pinnacle West Capital Corporation            Utilities   \n",
       "\n",
       "    # Employees          Market cap Dividend yield  PE Ratio  \n",
       "0       2300000    $363,056,466,453          1.66%     28.00  \n",
       "1       1298000  $1,172,281,932,907          0.00%     54.83  \n",
       "2        624000    $175,542,642,286          1.52%     27.23  \n",
       "3        543000    $120,946,420,006          3.33%     10.91  \n",
       "4        504800    $282,026,397,782          2.64%     16.70  \n",
       "..          ...                 ...            ...       ...  \n",
       "473         307      $7,381,253,626          3.50%     28.17  \n",
       "474         217     $12,172,957,241          5.24%     28.27  \n",
       "475         210     $34,790,430,036          5.02%     74.69  \n",
       "476         163     $12,532,067,646          1.19%     38.88  \n",
       "477          88      $7,240,443,989          5.22%     11.80  \n",
       "\n",
       "[478 rows x 7 columns]"
      ]
     },
     "execution_count": 10,
     "metadata": {},
     "output_type": "execute_result"
    }
   ],
   "source": [
    "sp500"
   ]
  },
  {
   "cell_type": "code",
   "execution_count": null,
   "metadata": {},
   "outputs": [],
   "source": []
  }
 ],
 "metadata": {
  "kernelspec": {
   "display_name": "Python 3.10.2 64-bit",
   "language": "python",
   "name": "python3"
  },
  "language_info": {
   "codemirror_mode": {
    "name": "ipython",
    "version": 3
   },
   "file_extension": ".py",
   "mimetype": "text/x-python",
   "name": "python",
   "nbconvert_exporter": "python",
   "pygments_lexer": "ipython3",
   "version": "3.10.2"
  },
  "orig_nbformat": 4,
  "vscode": {
   "interpreter": {
    "hash": "aee8b7b246df8f9039afb4144a1f6fd8d2ca17a180786b69acc140d282b71a49"
   }
  }
 },
 "nbformat": 4,
 "nbformat_minor": 2
}
